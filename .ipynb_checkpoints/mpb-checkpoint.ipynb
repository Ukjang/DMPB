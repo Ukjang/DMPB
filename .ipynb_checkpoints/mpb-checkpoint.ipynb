{
 "cells": [
  {
   "cell_type": "markdown",
   "id": "b3404e67",
   "metadata": {},
   "source": [
    "# 데이터 수집\n",
    "\n",
    "## 1. 한국은행 금융통화위원회 의사록\n"
   ]
  },
  {
   "cell_type": "code",
   "execution_count": 53,
   "id": "f9c7283b",
   "metadata": {},
   "outputs": [],
   "source": [
    "import requests\n",
    "from bs4 import BeautifulSoup as bs\n",
    "from urllib.request import urlretrieve\n",
    "import urllib.request\n",
    "import pandas as pd\n",
    "import pdfplumber\n",
    "import re\n",
    "import os\n",
    "import shutil\n",
    "import tqdm"
   ]
  },
  {
   "cell_type": "code",
   "execution_count": 89,
   "id": "43cc9786",
   "metadata": {},
   "outputs": [
    {
     "data": {
      "text/plain": [
       "'https://www.bok.or.kr/portal/cmmn/file/fileDown.do?menuNo=200761&atchFileId=FILE_000000000035091&fileSn=2'"
      ]
     },
     "execution_count": 89,
     "metadata": {},
     "output_type": "execute_result"
    }
   ],
   "source": [
    "download_link"
   ]
  },
  {
   "cell_type": "code",
   "execution_count": null,
   "id": "3dc5a5f6",
   "metadata": {},
   "outputs": [],
   "source": [
    "start_date = '2008-04-01'\n",
    "end_date = '2022-11-15'\n",
    "get_mpb_minutes()"
   ]
  },
  {
   "cell_type": "code",
   "execution_count": 87,
   "id": "d29f7d0b",
   "metadata": {},
   "outputs": [],
   "source": [
    "def get_mpb_minutes(start_date = '2008-04-01', end_date = '2022-11-15'):\n",
    "    \n",
    "    url = 'https://www.bok.or.kr/portal/bbs/B0000245/list.do?menuNo=200761&searchWrd=&searchCnd=1'\n",
    "    page = 1\n",
    "    params = f'&sdate={start_date}&edate={end_date}&pageIndex={str(page)}' \n",
    "    headers = {'user-agent' : 'Mozilla/5.0'}\n",
    "    \n",
    "    while True:\n",
    "        resp = requests.get(url + params, headers = headers)\n",
    "        soup = bs(resp.text, 'lxml')\n",
    "        end_page = soup.select('.schTotal span')[-1].text.split('/')[1].replace('pages', '')\n",
    "        print(end_page)\n",
    "        if page != end_page:\n",
    "            aTag_list = soup.select('.fileGoupBox a')\n",
    "            href_list = [aTag_list[i].attrs['href'] for i in range(2, len(aTag_list), 4)] \n",
    "            for href in href_list:\n",
    "                download_link = 'https://www.bok.or.kr' + href\n",
    "                os.makedirs('./temp')\n",
    "                urlretrieve(download_link, './temp/temp.pdf')\n",
    "                with pdfplumber.open('./temp/temp.pdf') as pdf:\n",
    "                    pages = pdf.page\n",
    "                    text = \"\"\n",
    "                    for pg in pages[1:]:\n",
    "                        text += pg.extract_text().replace('\\n', '')\n",
    "                    text = re.sub('- \\d+ -', '', text)\n",
    "                shutil.rmtree('./temp')\n",
    "    \n",
    "    return text"
   ]
  },
  {
   "cell_type": "code",
   "execution_count": null,
   "id": "ce2cfce7",
   "metadata": {},
   "outputs": [],
   "source": []
  },
  {
   "cell_type": "code",
   "execution_count": null,
   "id": "a84b32dc",
   "metadata": {},
   "outputs": [],
   "source": []
  },
  {
   "cell_type": "code",
   "execution_count": null,
   "id": "114bbac7",
   "metadata": {},
   "outputs": [],
   "source": []
  },
  {
   "cell_type": "code",
   "execution_count": null,
   "id": "629543c8",
   "metadata": {},
   "outputs": [],
   "source": []
  },
  {
   "cell_type": "code",
   "execution_count": null,
   "id": "c39783c4",
   "metadata": {},
   "outputs": [],
   "source": []
  },
  {
   "cell_type": "code",
   "execution_count": null,
   "id": "4fbb93c7",
   "metadata": {},
   "outputs": [],
   "source": []
  },
  {
   "cell_type": "code",
   "execution_count": null,
   "id": "495acfc9",
   "metadata": {},
   "outputs": [],
   "source": []
  },
  {
   "cell_type": "code",
   "execution_count": null,
   "id": "e6b37194",
   "metadata": {},
   "outputs": [],
   "source": []
  },
  {
   "cell_type": "code",
   "execution_count": null,
   "id": "93f692ba",
   "metadata": {},
   "outputs": [],
   "source": []
  }
 ],
 "metadata": {
  "kernelspec": {
   "display_name": "Python 3 (ipykernel)",
   "language": "python",
   "name": "python3"
  },
  "language_info": {
   "codemirror_mode": {
    "name": "ipython",
    "version": 3
   },
   "file_extension": ".py",
   "mimetype": "text/x-python",
   "name": "python",
   "nbconvert_exporter": "python",
   "pygments_lexer": "ipython3",
   "version": "3.10.7"
  }
 },
 "nbformat": 4,
 "nbformat_minor": 5
}
