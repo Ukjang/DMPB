{
  "nbformat": 4,
  "nbformat_minor": 0,
  "metadata": {
    "colab": {
      "provenance": []
    },
    "kernelspec": {
      "name": "python3",
      "display_name": "Python 3"
    },
    "language_info": {
      "name": "python"
    }
  },
  "cells": [
    {
      "cell_type": "markdown",
      "source": [
        "## 네이버 채권분석 보고서 크롤링\n",
        "https://finance.naver.com/research/debenture_list.naver?&page=147\n",
        "- 20221118\n",
        "- 수집기간 20080401~20221115\n",
        "- pdf href를 이용한 크롤링 후 text 추출하기\n",
        "    -  href=\"https://ssl.pstatic.net/imgstock/upload/research/debenture/1668729329628.pdf\"\n",
        "\n",
        "- 4,400개의 보고서 중 4,019개가 다운로드되었고 3,993개가 정상적인 pdf\n",
        "- 3,993개의 pdf파일 변환 시도 -> 3,984개 txt변환완료"
      ],
      "metadata": {
        "id": "D1apykAWjAWw"
      }
    },
    {
      "cell_type": "code",
      "source": [
        "from google.colab import drive\n",
        "drive.mount('/content/drive')"
      ],
      "metadata": {
        "colab": {
          "base_uri": "https://localhost:8080/"
        },
        "id": "EJzv_X0olUx7",
        "outputId": "f8642961-206c-42ff-8369-907cbdecff1a"
      },
      "execution_count": 2,
      "outputs": [
        {
          "output_type": "stream",
          "name": "stdout",
          "text": [
            "Mounted at /content/drive\n"
          ]
        }
      ]
    },
    {
      "cell_type": "code",
      "source": [
        "# 현재 경로 확인\n",
        "import os\n",
        "path=os.getcwd()\n",
        "print(path)"
      ],
      "metadata": {
        "colab": {
          "base_uri": "https://localhost:8080/"
        },
        "id": "oK3kcSUHjvMf",
        "outputId": "e1f1dd2d-d6e3-4072-eebe-947c2de00973"
      },
      "execution_count": 3,
      "outputs": [
        {
          "output_type": "stream",
          "name": "stdout",
          "text": [
            "/content\n"
          ]
        }
      ]
    },
    {
      "cell_type": "code",
      "source": [
        "from urllib.request import urlretrieve\n",
        "from bs4 import BeautifulSoup\n",
        "from urllib.request import Request\n",
        "from urllib.request import urlopen\n",
        "import re\n",
        "import datetime\n",
        "\n",
        "bond_base_url='https://finance.naver.com/research/debenture_list.naver?'\n",
        "\n",
        "#page지정해서 채권 리포트 pdf 다운로드받기-> 코랩에서 파일저장이 잘 안될경우, 주피터로 로컬에 저장하기.\n",
        "#def naver_bond_pdf_download(page):\n",
        "    \n",
        "for page in range(148): #20221118기준, 총 147page존재\n",
        "\n",
        "    page_url =bond_base_url+ \"&page=\" + str(page)\n",
        "    page_req = urlopen(page_url)\n",
        "    page_bs = BeautifulSoup(page_req, 'html.parser')\n",
        "    #print(len(page_bs))\n",
        "\n",
        "    #생성날짜, 증권사, 제목 가져오기\n",
        "    bond_list=page_bs.select(\"div.box_type_m > table.type_1>tr\")[1:]\n",
        "    \n",
        "\n",
        "    for bond in bond_list:\n",
        "        bond_info_list=[]\n",
        "        #print(bond)\n",
        "        for bond_info in bond.select('td'):\n",
        "\n",
        "            bond_info_list.append(bond_info)\n",
        "\n",
        "\n",
        "        #print( bond_info_list)\n",
        "        if len(bond_info_list)>1:\n",
        "            title=bond_info_list[0].text #제목\n",
        "            #print(title)\n",
        "            company=bond_info_list[1].text #증권사이름\n",
        "            #print(company)\n",
        "            date=bond_info_list[3].text #생성날짜\n",
        "            date = datetime.datetime.strptime(date, \"%y.%m.%d\").date()\n",
        "            #print(date)\n",
        "\n",
        "            try:\n",
        "                #pdf download link   \n",
        "                bond_pdf_download_href=bond_info_list[2].a.attrs['href']\n",
        "                #print(bond_pdf_download_href)\n",
        "                urlretrieve(bond_pdf_download_href,'./content/drive/MyDrive/naver_bond_1/' + str(date) + \"_\" + company + \"_\"+title + \".pdf\")\n",
        "            except Exception as e:\n",
        "                print('error!', e)\n",
        "\n"
      ],
      "metadata": {
        "id": "aHn0SGR8-Uoj"
      },
      "execution_count": 6,
      "outputs": []
    },
    {
      "cell_type": "markdown",
      "source": [
        "## pdf to text"
      ],
      "metadata": {
        "id": "24wlYQFPjQVB"
      }
    },
    {
      "cell_type": "code",
      "source": [
        "!pip install pdfplumber"
      ],
      "metadata": {
        "id": "8mSQyeR3jPqn",
        "colab": {
          "base_uri": "https://localhost:8080/",
          "height": 569
        },
        "outputId": "05ec1f93-dff6-4cd7-96c7-3d15dae8cc22"
      },
      "execution_count": null,
      "outputs": [
        {
          "output_type": "stream",
          "name": "stdout",
          "text": [
            "Looking in indexes: https://pypi.org/simple, https://us-python.pkg.dev/colab-wheels/public/simple/\n",
            "Collecting pdfplumber\n",
            "  Downloading pdfplumber-0.7.5-py3-none-any.whl (40 kB)\n",
            "\u001b[K     |████████████████████████████████| 40 kB 3.7 MB/s \n",
            "\u001b[?25hCollecting Pillow>=9.1\n",
            "  Downloading Pillow-9.3.0-cp37-cp37m-manylinux_2_17_x86_64.manylinux2014_x86_64.whl (3.2 MB)\n",
            "\u001b[K     |████████████████████████████████| 3.2 MB 22.1 MB/s \n",
            "\u001b[?25hCollecting pdfminer.six==20220524\n",
            "  Downloading pdfminer.six-20220524-py3-none-any.whl (5.6 MB)\n",
            "\u001b[K     |████████████████████████████████| 5.6 MB 19.4 MB/s \n",
            "\u001b[?25hCollecting Wand>=0.6.10\n",
            "  Downloading Wand-0.6.10-py2.py3-none-any.whl (142 kB)\n",
            "\u001b[K     |████████████████████████████████| 142 kB 61.1 MB/s \n",
            "\u001b[?25hCollecting cryptography>=36.0.0\n",
            "  Downloading cryptography-38.0.3-cp36-abi3-manylinux_2_24_x86_64.whl (4.1 MB)\n",
            "\u001b[K     |████████████████████████████████| 4.1 MB 50.5 MB/s \n",
            "\u001b[?25hRequirement already satisfied: charset-normalizer>=2.0.0 in /usr/local/lib/python3.7/dist-packages (from pdfminer.six==20220524->pdfplumber) (2.1.1)\n",
            "Requirement already satisfied: cffi>=1.12 in /usr/local/lib/python3.7/dist-packages (from cryptography>=36.0.0->pdfminer.six==20220524->pdfplumber) (1.15.1)\n",
            "Requirement already satisfied: pycparser in /usr/local/lib/python3.7/dist-packages (from cffi>=1.12->cryptography>=36.0.0->pdfminer.six==20220524->pdfplumber) (2.21)\n",
            "Installing collected packages: cryptography, Wand, Pillow, pdfminer.six, pdfplumber\n",
            "  Attempting uninstall: Pillow\n",
            "    Found existing installation: Pillow 7.1.2\n",
            "    Uninstalling Pillow-7.1.2:\n",
            "      Successfully uninstalled Pillow-7.1.2\n",
            "Successfully installed Pillow-9.3.0 Wand-0.6.10 cryptography-38.0.3 pdfminer.six-20220524 pdfplumber-0.7.5\n"
          ]
        },
        {
          "output_type": "display_data",
          "data": {
            "application/vnd.colab-display-data+json": {
              "pip_warning": {
                "packages": [
                  "PIL"
                ]
              }
            }
          },
          "metadata": {}
        }
      ]
    },
    {
      "cell_type": "code",
      "source": [
        "from urllib.request import urlretrieve\n",
        "from urllib.request import Request\n",
        "from urllib.request import urlopen\n",
        "from urllib.request import urlretrieve\n",
        "import re\n",
        "import glob\n",
        "import pdfplumber\n",
        "\n",
        "\n",
        "all_files = (glob.glob(\"/content/drive/MyDrive/naver_bond_1/*.pdf\"))\n",
        "bond_all_text=[]\n",
        "\n",
        "#변환된 txt파일 저장할 폴더경로\n",
        "folder_dir=\"/content/drive/MyDrive/naver_bond_1/\"\n",
        "\n",
        "#속도문제로 파일 목록들을 나누어 돌림\n",
        "for file in all_files[2170:]:\n",
        "    file_name=file.split('/')[5] #pdf파일이름\n",
        "    new_file_name = file_name.replace('.pdf', '.txt')#txt파일이름\n",
        "\n",
        "    all_text=''\n",
        "    try:\n",
        "        with pdfplumber.open(file) as pdf:\n",
        "            for page in pdf.pages: #pdf파일별 전체 페이지 가져오기\n",
        "                #print(page)\n",
        "                string = page.extract_text().replace('\\n', '') #줄바꿈제거\n",
        "                all_text = all_text + '\\n' + string #전체페이지 합친 pdf별 전체텍스트\n",
        "            \n",
        "            #변환된 txt파일 저장\n",
        "            with open(folder_dir+\"/text/\"+new_file_name, 'w',encoding='utf-8') as f:\n",
        "                f.write(all_text)\n",
        "                #print(string)\n",
        "\n",
        "            bond_all_text.append(all_text) #pdf별로 빈리스트에 append\n",
        "\n",
        "    except Exception as e:\n",
        "        print(e)\n",
        "\n",
        "print(bond_all_text)\n",
        "len(bond_all_text)"
      ],
      "metadata": {
        "id": "HH275sW8jFJ3",
        "colab": {
          "base_uri": "https://localhost:8080/"
        },
        "outputId": "b1d3f0e5-b157-4860-c68f-42fe7aa7592d"
      },
      "execution_count": null,
      "outputs": [
        {
          "output_type": "stream",
          "name": "stdout",
          "text": [
            "can't concat float to bytes\n"
          ]
        },
        {
          "output_type": "stream",
          "name": "stderr",
          "text": [
            "WARNING:pdfminer.pdftypes:Data-loss while decompressing corrupted data\n",
            "WARNING:pdfminer.pdftypes:Data-loss while decompressing corrupted data\n"
          ]
        },
        {
          "output_type": "stream",
          "name": "stdout",
          "text": [
            "bytes must be in range(0, 256)\n"
          ]
        },
        {
          "output_type": "stream",
          "name": "stderr",
          "text": [
            "WARNING:pdfminer.pdftypes:Data-loss while decompressing corrupted data\n",
            "WARNING:pdfminer.pdftypes:Data-loss while decompressing corrupted data\n"
          ]
        },
        {
          "output_type": "stream",
          "name": "stdout",
          "text": [
            "'PSKeyword' object is not iterable\n"
          ]
        },
        {
          "output_type": "stream",
          "name": "stderr",
          "text": [
            "WARNING:pdfminer.pdftypes:Data-loss while decompressing corrupted data\n"
          ]
        },
        {
          "output_type": "stream",
          "name": "stdout",
          "text": [
            "'NoneType' object has no attribute 'decode'\n"
          ]
        },
        {
          "output_type": "stream",
          "name": "stderr",
          "text": [
            "WARNING:pdfminer.pdftypes:Data-loss while decompressing corrupted data\n",
            "WARNING:pdfminer.pdftypes:Data-loss while decompressing corrupted data\n"
          ]
        },
        {
          "output_type": "stream",
          "name": "stdout",
          "text": [
            "can't concat float to bytes\n"
          ]
        },
        {
          "output_type": "stream",
          "name": "stderr",
          "text": [
            "WARNING:pdfminer.pdftypes:Data-loss while decompressing corrupted data\n"
          ]
        },
        {
          "output_type": "stream",
          "name": "stdout",
          "text": [
            "bytes must be in range(0, 256)\n"
          ]
        },
        {
          "output_type": "stream",
          "name": "stderr",
          "text": [
            "WARNING:pdfminer.pdftypes:Data-loss while decompressing corrupted data\n",
            "WARNING:pdfminer.pdftypes:Data-loss while decompressing corrupted data\n",
            "WARNING:pdfminer.pdftypes:Data-loss while decompressing corrupted data\n",
            "WARNING:pdfminer.pdftypes:Data-loss while decompressing corrupted data\n",
            "WARNING:pdfminer.pdftypes:Data-loss while decompressing corrupted data\n",
            "WARNING:pdfminer.pdftypes:Data-loss while decompressing corrupted data\n"
          ]
        },
        {
          "output_type": "stream",
          "name": "stdout",
          "text": [
            "unsupported operand type(s) for +: 'float' and 'bytes'\n"
          ]
        },
        {
          "output_type": "stream",
          "name": "stderr",
          "text": [
            "WARNING:pdfminer.pdftypes:Data-loss while decompressing corrupted data\n",
            "WARNING:pdfminer.pdftypes:Data-loss while decompressing corrupted data\n",
            "WARNING:pdfminer.pdftypes:Data-loss while decompressing corrupted data\n"
          ]
        },
        {
          "output_type": "stream",
          "name": "stdout",
          "text": [
            "bytes must be in range(0, 256)\n"
          ]
        },
        {
          "output_type": "stream",
          "name": "stderr",
          "text": [
            "WARNING:pdfminer.pdftypes:Data-loss while decompressing corrupted data\n",
            "IOPub data rate exceeded.\n",
            "The notebook server will temporarily stop sending output\n",
            "to the client in order to avoid crashing it.\n",
            "To change this limit, set the config variable\n",
            "`--NotebookApp.iopub_data_rate_limit`.\n",
            "\n",
            "Current values:\n",
            "NotebookApp.iopub_data_rate_limit=1000000.0 (bytes/sec)\n",
            "NotebookApp.rate_limit_window=3.0 (secs)\n",
            "\n"
          ]
        },
        {
          "output_type": "execute_result",
          "data": {
            "text/plain": [
              "1815"
            ]
          },
          "metadata": {},
          "execution_count": 8
        }
      ]
    },
    {
      "cell_type": "code",
      "source": [
        "#텍스트 파일 목록 확인\n",
        "all_files = (glob.glob(\"/content/drive/MyDrive/naver_bond_reports/*.pdf\"))\n",
        "for file in all_files:\n",
        "    file_name=file.split('/')[5]\n",
        "    new_file_name = file_name.replace('.pdf', '.txt')\n",
        "    print(new_file_name)"
      ],
      "metadata": {
        "colab": {
          "base_uri": "https://localhost:8080/"
        },
        "id": "EU1-1NLbAjOD",
        "outputId": "06a92da1-8608-4cd4-eae7-78de40ccd73b"
      },
      "execution_count": null,
      "outputs": [
        {
          "output_type": "stream",
          "name": "stdout",
          "text": [
            "2022-11-18_신한투자증권_신한 Bond.Zip (11월 18일).txt\n",
            "2022-11-18_유안타증권_채권 Daily (11.18).txt\n",
            "2022-10-31_유안타증권_채권 Daily (10.31).txt\n",
            "2022-11-02_유안타증권_채권 Daily (11.02).txt\n",
            "2022-10-26_하나증권_급한 불은 껐다.txt\n",
            "2022-10-28_유안타증권_채권 Daily (10.28).txt\n",
            "2022-10-31_신한투자증권_오래가지 못할 피봇(Pivot) 랠리.txt\n",
            "2022-10-27_유안타증권_채권 Daily (10.27).txt\n",
            "2022-10-26_유안타증권_채권 Daily (10.26).txt\n",
            "2022-10-25_유안타증권_채권 Daily (10.25).txt\n",
            "2022-10-27_하나증권_한은의 11월 선택지 점검.txt\n",
            "2022-11-16_하나증권_진화를 넘어 진정으로.txt\n",
            "2022-11-18_대신증권_기준금리 인하기대라면너무 과도하다.txt\n",
            "2022-11-16_하나증권_장기전도 내수가 버텨야 가능하다.txt\n",
            "2022-11-17_유안타증권_채권 Daily (11.17).txt\n",
            "2022-11-16_하이투자증권_한전채와 CP.txt\n",
            "2022-11-16_하나증권_연준 손바닥 위에 놓인 미국 크레딧.txt\n",
            "2022-11-04_신한투자증권_유턴(U-turn) 신호 기다리기.txt\n",
            "2022-10-31_한화투자증권_[Hanwha FI 2023년 전망] 동행, 그리고 기다림.txt\n",
            "2022-11-14_유안타증권_채권 Daily (11.14).txt\n",
            "2022-10-31_신한투자증권_금융과 경기 분리 대응에 나서는 한은.txt\n",
            "2022-11-16_유안타증권_채권 Daily (11.16).txt\n",
            "2022-11-14_신한투자증권_회복될 이유가 있는 투자심리.txt\n",
            "2022-11-14_한화투자증권_[Hanwha FI Weekly] 울다가 웃으면 뿔이 날 수도.txt\n",
            "2022-11-14_신한투자증권_사라진 연속 50bp 인상 명분.txt\n",
            "2022-11-15_유안타증권_채권 Daily (11.15) .txt\n",
            "2022-11-16_하나증권_다시 Dual Mandate.txt\n",
            "2022-11-11_하나증권_좋은 친구들(Goodfellas).txt\n",
            "2022-10-31_교보증권_숨 고르기.txt\n",
            "2022-11-11_유안타증권_채권 Daily (11.11).txt\n",
            "2022-11-11_신한투자증권_신한 Bond. ZIP (11월 11일).txt\n",
            "2022-11-10_유안타증권_채권 Daily (11.10).txt\n",
            "2022-11-09_유안타증권_채권 Daily (11.09).txt\n",
            "2022-11-08_유안타증권_채권 Daily (11.08).txt\n",
            "2022-11-07_유안타증권_채권 Daily (11.07).txt\n",
            "2022-11-04_유안타증권_채권 Daily (11.04).txt\n",
            "2022-11-07_유안타증권_통화정책 불확실성과 정책효과 약화.txt\n",
            "2022-11-03_하나증권_[11월 FOMC] 아직까지는 매파입니다.txt\n",
            "2022-10-27_하이투자증권_채권사이클이 돌아온다 (2).txt\n",
            "2022-11-03_유안타증권_채권 Daily (11.03).txt\n",
            "2022-11-03_한화투자증권_[Hanwha FOMC Review] 속도 조절 ≠ 긴축 조절.txt\n",
            "2022-11-03_하이투자증권_속도 조절이 답은 아니다.txt\n",
            "2022-11-01_유안타증권_채권 Daily (11.01).txt\n",
            "2022-11-04_신한투자증권_주간 채권 코멘트 (11월 4일).txt\n",
            "2022-11-08_하나증권_다시 Dual Mandate.txt\n",
            "2022-11-08_신한투자증권_채권대학살 이후 (PPT).txt\n",
            "2022-11-08_신한투자증권_유턴(U-turn) 신호 기다리기 (PPT).txt\n",
            "2022-11-08_신한투자증권_Next Phase (PPT).txt\n",
            "2022-11-07_한화투자증권_[Hanwha FI Weekly] American Hawk 물가 상승 - 금융 ...txt\n",
            "2022-11-04_신한투자증권_채권대학살 이후.txt\n",
            "2022-11-15_메리츠증권_[채권전망] Era of Un-, 안전자산의 가치.txt\n",
            "2022-11-11_하나증권_반환점.txt\n",
            "2022-11-10_하이투자증권_소문난 잔치 금리 하락 의 진실.txt\n",
            "2022-11-10_하나증권_장기전도 내수가 버텨야 가능하다.txt\n",
            "2022-11-09_하나증권_연준 손바닥 위에 놓인 미국 크레딧.txt\n",
            "2022-11-09_미래에셋증권_긴축 속도 조절 기대감이 원화채권에 주는 기회.txt\n"
          ]
        }
      ]
    },
    {
      "cell_type": "markdown",
      "source": [
        "## 변환된 채권보고서 txt 불러오기\n",
        "- lineterminator : 각 행의 끝을 표시하기 위해 사용되는 문자"
      ],
      "metadata": {
        "id": "DmQ8fs1UtsKo"
      }
    },
    {
      "cell_type": "code",
      "source": [
        "# 모든 txt 파일 불러와서 파일별로 리스트에 담기\n",
        "\n",
        "import glob\n",
        "import re\n",
        "\n",
        "all_txt_files = (glob.glob(\"/content/drive/MyDrive/naver_bond_1/text/*.txt\"))\n",
        "folder_dir=\"/content/drive/MyDrive/naver_bond_1/text/\"\n",
        "all_string_list=[]\n",
        "for txt_file in all_txt_files:\n",
        "    with open(txt_file,'r', encoding='utf-8') as f:\n",
        "        string=f.readlines() #txt파일내 한줄씩 불러오기-> 리스트로 불러오기에 join필요\n",
        "        new_string=' '.join(string)\n",
        "        new_string=re.sub('\\n','',new_string)\n",
        "\n",
        "        #print(new_string)\n",
        "\n",
        "        all_string_list.append(new_string)\n",
        "\n",
        "\n",
        "len(all_string_list)"
      ],
      "metadata": {
        "colab": {
          "base_uri": "https://localhost:8080/"
        },
        "id": "JGNDP_fsDO9Z",
        "outputId": "ac9c009c-82d0-4d73-9c20-1973e6572bd5"
      },
      "execution_count": null,
      "outputs": [
        {
          "output_type": "execute_result",
          "data": {
            "text/plain": [
              "3984"
            ]
          },
          "metadata": {},
          "execution_count": 8
        }
      ]
    },
    {
      "cell_type": "code",
      "source": [
        "all_string_list[0]"
      ],
      "metadata": {
        "colab": {
          "base_uri": "https://localhost:8080/",
          "height": 164
        },
        "id": "zNhK1IuJSmzO",
        "outputId": "d042e0e7-a84f-4e55-aeea-8265edc22d14"
      },
      "execution_count": null,
      "outputs": [
        {
          "output_type": "execute_result",
          "data": {
            "text/plain": [
              "' Credit 손소현 02. 3779-0055 thecredit@ebestsec.co.krRA 전병하 02. 3779-8633 byunghajeon@ebestsec.co.kr2015-10-16(금) Comment\\uf0a7 피치, 브라질 신용등급 BBB에서 BBB-로 한 단계 강등  \\uf0a7 미 뉴욕연방은행장, 예상대로 경제회복시 금리인상 선호 피치는 브라질 국가신용등급을 BBB에서 BBB-로 한 단계 강등.  미국 뉴욕 연방준비은행의 윌리엄 더들리 은행장이 통화정책과 BBB-는 피치가 분류하는 투자등급의 맨 아래 단계로 신용등급  관련해 현재 예상하는 속도대로 미국 경제가 회복된다면 기준금리를 전망을 부정적으로 제시하였음. 피치는 향후 정부 재정 악화가  올리는 쪽을 선호한다는 입장을 보임. 그러나 올해 금리를 올릴 수 지속되고, 경기 침체가 장기화 되면 추가 강등할 수 있다고 경고.  있을지에 대해서는 나도 알았으며 한다며 대답을 회피하는 모습을 무디스가 평가한 브라질 국가신용등급도 투자등급의 맨 아래 단계인  보였음. 더들리 은행장은 지금부터 연말 사이에 많은 자료가 나올 Baa3, 신용등급 전망은 안정적. S&P는 이미 지난달 투기등급인  예정이고 어떤 결정이든 그 자료에 따른다면서 최근에는 경제가 BB+로 강등하고 신용등급 전망을 부정적으로 제시하였음. 이후  둔화됐다는 소식도 있지만 국내 경제의 성과는 매우 좋다고 언급. 브라질 정부는 긴축과 증세를 통한 169억달러 규모 재정 확충 대책을  더들리 은행장은 연준 통화정책의 두 축인 물가와 고용동향 사이에 발표하였으며 내년 재정수지 흑자 목표치를 GDP 대비 0.5%에서  상관관계가 있다는 의견을 밝히기도 하였음 0.7%로 끌어올리는데 초점을 맞춤. 그러나 노동계, 재계, 연방의회가 반대하고 있어 의회 통과가 불투명한 상황  국내 채권 국내 크레딧(bp) 종가(%) 1D 1W 1M (bp) 금리(%) 스프레드 1D 1W 1M국내금리 CD(91일) 1.570 -1.0 -2.0  -3.0  특수채AAA 1.739 11.7 0.0 -0.5 0.3통안 1년 1.539 -1.0 1.2 0.2 은행채AAA 1.748 12.6 -0.1 -0.4 0.1통안 2년 1.590 -2.2 1.3 -2.2 여전채AA+ 1.975 35.3 -0.5 -3.3 3.5국고 3년 1.622 -3.3 0.7 -4.5 여전채AA0 2.061 43.9 -0.5 -2.0 6.5국고 5년 1.772 -5.3 -1.0 -13.0 여전채AA- 2.157 53.5 0.0 -0.2 11.4국고 10년 2.060 -15.0 -3.0 -21.0 여전채A+ 2.668 104.6 0.1 0.1 12.4국고 30년  2.191 -12.4 -11.4 -33.1 회사채AAA 1.904 28.2 0.0 -1.0 3.5스프레드 (bp) 3년/5년 15.0 17.0 16.7 23.5 회사채AA+ 1.986 36.4 0.4 0.3 8.03년/10년 43.8 55.5 47.5 60.3 회사채AA0 2.028 40.6 0.4 0.3 8.05년/10년 28.8 38.5 30.8 36.8 회사채AA- 2.073 45.1 0.4 0.3 8.0FX (원) 원/달러 1,130.30 1.5 2.4 4.5 회사채A+ 2.478 85.6 0.4 0.3 8.6원/100엔 950.70 1.5 1.6 3.4 회사채A0 2.725 110.3 0.4 0.3 8.6IRS IRS 1년 1.519 -1.1 0.6 -0.9 회사채A- 3.071 144.9 0.4 0.3 8.6IRS 3년 1.590 -3.9 -0.5 -6.5 회사채BBB+ 5.590 396.8 5.1 3.4 11.1IRS 10년 1.905 -7.0 -5.0 -19.8 회사채BBB- 7.979 635.7 0.4 0.3 8.6CRS CRS 1년 1.030 -2.5 -10.5 -3.5 AA-/BBB- 5.906 590.6 5.9 5.9 5.9CRS 3년 1.055 -3.5 -4.0 -4.0 투자자별 매매현황CRS 10년 1.190 -5.0 -6.5 -15.0 (억원) 국채 통안채 특수채 금융채 회사채자금흐름 외국인 3,378 766 0 0 0(십억원) 10/14 1D 2D 3D 4D 기금 -92 -1,990 60 -852 -20MMF   1 07,364 917.2 168.2 -688.4 -688.4 보험 94 40 -609 421 250혼합형     40,352 -78.3 -57.0 -12.9 -12.9 투신 -33 1,520 2,369 5,003 248채권형     84,818 183.7 -76.9 -85.5 -85.5 은행 -3,899 803 -1,300 795 -620채권관련자금   5 45,418 933.5 1,630.5 2,994.8 2,994.8 종금 168 0 400 330 60정부 -20 -100 -20 0 0기타법인 -154 0 40 224 259주요 일정 및 발행/만기월 화 수 목 금10/12 10/13 10/14 10/15 10/16美 베이지북. EU 8월 산업생산 中 GDP, 韓 금통위 美 9월 산업생산만기 1조 1,924억 만기 1조 3,910억 만기 1조 1,306억 만기 2조 4,099억 만기 2조 6,051억회사채발행 900억10/19 10/20 10/21 10/22 10/23中 Caixin 제조업 PMI ECB Announcement만기 1조 596억 만기 3조 7,605억 만기 7,846억 만기 2조 7,616억 만기 2조 2,815억1/2 2015-10-16(금)글로벌 채권 글로벌 크레딧(bp) 종가(%) 1D 1W 1M (bp) 종가(%) 1D 1W 1M미국 2년 0.597 4.8 -3.6 -12.9 미국회사채AAA 3.900 0.0 -14.0 -14.0미국 10년 2.018 4.6 -8.7 -16.6 미국회사채BAA 5.300 0.0 -10.0 -1.0독일 10년 0.550 0.9 -3.6 -10.5 미국회사채Avg. 4.480 0.0 -11.0 -10.0영국 10년 1.766 0.9 -4.9 -8.6 미국은행채AA,5Y 2.039 0.0 0.0 0.0프랑스 10년 0.923 1.1 -3.4 -13.7 독일은행채AA,5Y 1.165 2.9 5.1 18.7이탈리아 10년 1.645 1.6 -4.1 -20.8 일본회사채AA,5Y 0.173 -0.6 -0.4 -0.2스페인 10년 1.808 1.3 -2.4 -31.5 US Ted spread 32.030 -0.2 0.1 0.5그리스 10년 7.962 3.1 17.9 -72.4 Euro OIS spread -0.152 0.0 0.0 0.0일본 10년 0.324 1.4 -0.9 -4.0 US Libor 3개월 0.317 0.0 -0.3 -1.8호주 10년 2.561 -3.0 -6.1 -13.2 Euribor 3개월 -0.049 0.0 -0.1 -1.1한국 10년 2.060 -6.0 -3.0 -21.0 JP EMBI+ spread 413.550 0.0 9.5 -4.3중국 10년 3.140 0.0 -16.0 -27.0 주요국 CDS인도 10년 7.550 -0.4 1.4 -20.5 (bp) 종가 1D 1W 1M인니 10년 8.738 -6.3 -12.3 -58.9 그리스 1,125.91 -3.98 47.48 -514.19태국 10년 2.543 -5.1 -11.5 -50.1 포르투갈 170.66 7.94 8.84 10.28필리핀 10년 4.061 0.0 0.0 0.0 독일 13.79 -0.44 -0.16 -0.10러시아 10년 10.271 -12.2 -15.0 -114.2 이탈리아 118.33 0.42 0.46 6.24헝가리 10년 3.280 1.0 10.0 -28.0 스페인 103.35 0.62 -0.75 3.86폴란드 10년 2.666 -1.9 1.0 -29.9 미국 16.00 -0.73 -0.63 -1.41터키 10년 10.110 -16.0 -28.0 -74.0 일본 42.73 0.39 -1.14 3.16브라질 10년 15.950 0.0 58.0 75.9 영국 15.46 0.55 0.82 -1.51멕시코 10년 5.928 1.2 2.2 -22.3 프랑스 31.51 -0.14 -0.23 -1.07주요국 환율 멕시코 160.47 -3.90 -4.73 4.51종가 FX (+ 절상, - 절하) (%) 스웨덴 15.01 0.25 0.25 -0.511D 1W 1M 터키 269.60 -10.72 -3.06 -25.82달러인덱스 94.43 0.54 -0.93  -0.85  한국 67.16 -2.51 -4.34 -2.26유로/달러 1.139 -0.77  0.98 0.61 호주 49.35 -1.30 -2.51 3.07달러/엔 118.9 -0.06  0.86 1.11 인도 167.75 -4.04 -6.87 -1.91파운드/달러 1.546 -0.12  0.72 0.21 인도네시아 217.35 -11.49 -16.53 -26.39달러/캐나다 달러 1.286 0.56 1.17 3.02 중국 108.84 -2.91 -6.97 -9.87달러/스위스 프랑 0.951 -0.09  1.60 1.85 스위스 20.06 -0.01 -0.02 -0.39달러/스웨덴 크로나 8.235 -1.52  0.14 0.26 글로벌 은행 CDS달러/노르웨이 크로네 8.098 -0.19  0.57 1.01 (bp) 종가 1D 1W 1M호주 달러/달러 0.733 0.40 0.95 2.68 Barclays(영국) 69.22 -0.30 1.86 -1.28뉴질랜드 달러/달러 0.685 0.93 2.77 8.23 SC(영국) 135.79 -0.85 -3.57 18.99달러/한국 원 42,264.0 1.46 2.44 4.47 BNP(영국) 78.72 -0.07 -0.54 6.57달러/중국 위안 6.346 0.03 0.11 0.34 Societe Generale(프랑스) 86.73 -1.18 -2.20 2.69달러/인도 루피 64.825 0.33 0.39 2.27 DB(독일) 90.87 -0.17 -5.64 -2.44달러/인니 루피아 65.038 0.33 0.39 2.27 Commerz(독일) 95.25 -1.31 -6.30 -1.43달러/태국 바트 35.18 0.50 1.68 2.34 UBS(스위스) 58.07 -0.75 -1.16 -4.40달러/러시아 루블 61.375 2.02 0.03 9.12 Credit Suisse(스위스) 74.80 0.05 -2.15 -5.57달러/터키 리라 2.879 1.19 -0.49  -5.85  Santander(스페인) 129.84 -0.19 -6.04 5.73달러/헝가리 포린트 271.720 -0.63  1.66 1.89 BBVA(스페인) 125.01 0.05 -4.13 2.44달러/브라질 헤알 3.799 0.35 -0.37  0.42 Unicredit(이탈리아) 132.30 -0.53 -0.66 -4.80달러/멕시코 페소 16.390 0.51 0.42 2.17 Intesa Sanpaolo(이탈리아) 98.27 -1.17 -1.72 -7.82(bp)  글로벌 10Y변동(1D) (%3, +절상 - 절하)  글로벌 FX변동(1D)  (bp)  글로벌 CDS변동(1D) 10 2 15105 150 0 0-1 -5-5-10-2-10 아 국 니 공 키 드 다 국 코 국 주 질 도 국 본 스 국 이 리 럽 덴  -15국 스 아 본 인 코 스 리 일 국 국 국 국 도 드 주 국 국 아 아 키  시한인아터랜나미시태호라인중일위영웨가유웨 갈 스 국 덴 스 스 일 본 아 인 국 주 국 국 도 코 키 아 미리리일페시랑가독영중중중인란호태한시시터 러 남 질캐 멕 브 스 르헝 스 투리영웨랑위독일리페미호한중인시터시그탈 스멕프헝 폴 네러 뉴 노 르그 스프스 탈스 멕 네이 도 포 이 도인 인Compliance Notice 본 자료에 기재된 내용들은 작성자 본인의 의견을 정확하게 반영하고 있으며 외부의 부당한 압력이나 간섭 없이 작성되었음을 확인합니다(작성자: 손소현). 본 자료는 고객의 증권투자를 돕기  위한  정보 제공을 목적으로 제작되었습니다. 본 자료에 수록된 내용은 당사 리서치본부가 신뢰할만한 자료 및 정보를 바탕으로 작성한 것이나, 당사가 그 정확성이나 완전성을 보장할 수  없으므로 참고자료로만 활용하시기 바라며 유가 증권 투자시 투자자 자신의 판단과 책임하에 최종결정을 하시기 바랍니다. 따라서 본 자료는 어떠한 경우에도 고객의 증권투자결과에 대한  2/2 법적 책임소재의 증빙자료로 사용될 수 없습니다. 본 자료는 당사의 저작물로서 모든 저작권은 당사에게 있으며 어떠한 경우에도 당사의 동의 없이 복제, 배포, 전송, 변형될 수 없습니다. '"
            ],
            "application/vnd.google.colaboratory.intrinsic+json": {
              "type": "string"
            }
          },
          "metadata": {},
          "execution_count": 77
        }
      ]
    },
    {
      "cell_type": "markdown",
      "source": [
        "- 보고서 파일내 텍스트만 사용할 경우"
      ],
      "metadata": {
        "id": "srVx1xMdfq_u"
      }
    },
    {
      "cell_type": "code",
      "source": [
        "# 채권보고서의 모든 내용들을 하나의 텍스트 파일로 저장\n",
        "all_string='\\n'.join(all_string_list)\n",
        "folder_dir=\"/content/drive/MyDrive/naver_bond_1/all_text/\"\n",
        "\n",
        "with open(folder_dir+'bond_reports_all_docs.txt', 'w',encoding='utf-8') as f:\n",
        "    f.write(all_string)"
      ],
      "metadata": {
        "id": "f87we8CDTjtQ"
      },
      "execution_count": null,
      "outputs": []
    },
    {
      "cell_type": "code",
      "source": [
        "#txt파일 내 문서들을 '\\n'으로 구분하려면 txt파일을 열어서 첫째줄에 '\\n'삽입 후 불러와야함\n",
        "import pandas as pd \n",
        "pd.read_table(\"/content/drive/MyDrive/naver_bond_1/all_text/bond_reports_all_docs_.txt\",sep='\\n',lineterminator='\\n')"
      ],
      "metadata": {
        "colab": {
          "base_uri": "https://localhost:8080/",
          "height": 424
        },
        "id": "NR4UJzODU1nG",
        "outputId": "b5ff6b07-7cb6-49e4-9220-d3cb61c9440c"
      },
      "execution_count": null,
      "outputs": [
        {
          "output_type": "execute_result",
          "data": {
            "text/plain": [
              "                                                     \\n\n",
              "0     Credit 손소현 02. 3779-0055 thecredit@ebestsec.co...\n",
              "1            2015년 10월 14일 I Global Asset Research  ...\n",
              "2      Credit 손소현 02. 3779-0055 thecredit@ebestsec.c...\n",
              "3           2015년 10월 15일 I Global Asset Research   ...\n",
              "4           2015년 10월 13일 I Global Asset Research   ...\n",
              "...                                                 ...\n",
              "3979    [10월 금통위]    Correlation이  가장  두렵다 [Bond Str...\n",
              "3980   (단위: 억원, %)발간일: 10.12 (수)10.11 (화) 1d 5d 1M 전...\n",
              "3981     Fixed Income 2022.11.11   `   PF ABCP  유동성 ...\n",
              "3982   I   1 Summary투자등급(IG) 및 하이일드(HY) 회사채 시장 전망 내...\n",
              "3983    2022년 11월 3일        Fixed Income 우혜영  11월  F...\n",
              "\n",
              "[3984 rows x 1 columns]"
            ],
            "text/html": [
              "\n",
              "  <div id=\"df-51ffb7af-113a-41c9-8d0a-34ee9efa22e8\">\n",
              "    <div class=\"colab-df-container\">\n",
              "      <div>\n",
              "<style scoped>\n",
              "    .dataframe tbody tr th:only-of-type {\n",
              "        vertical-align: middle;\n",
              "    }\n",
              "\n",
              "    .dataframe tbody tr th {\n",
              "        vertical-align: top;\n",
              "    }\n",
              "\n",
              "    .dataframe thead th {\n",
              "        text-align: right;\n",
              "    }\n",
              "</style>\n",
              "<table border=\"1\" class=\"dataframe\">\n",
              "  <thead>\n",
              "    <tr style=\"text-align: right;\">\n",
              "      <th></th>\n",
              "      <th>\\n</th>\n",
              "    </tr>\n",
              "  </thead>\n",
              "  <tbody>\n",
              "    <tr>\n",
              "      <th>0</th>\n",
              "      <td>Credit 손소현 02. 3779-0055 thecredit@ebestsec.co...</td>\n",
              "    </tr>\n",
              "    <tr>\n",
              "      <th>1</th>\n",
              "      <td>2015년 10월 14일 I Global Asset Research  ...</td>\n",
              "    </tr>\n",
              "    <tr>\n",
              "      <th>2</th>\n",
              "      <td>Credit 손소현 02. 3779-0055 thecredit@ebestsec.c...</td>\n",
              "    </tr>\n",
              "    <tr>\n",
              "      <th>3</th>\n",
              "      <td>2015년 10월 15일 I Global Asset Research   ...</td>\n",
              "    </tr>\n",
              "    <tr>\n",
              "      <th>4</th>\n",
              "      <td>2015년 10월 13일 I Global Asset Research   ...</td>\n",
              "    </tr>\n",
              "    <tr>\n",
              "      <th>...</th>\n",
              "      <td>...</td>\n",
              "    </tr>\n",
              "    <tr>\n",
              "      <th>3979</th>\n",
              "      <td>[10월 금통위]    Correlation이  가장  두렵다 [Bond Str...</td>\n",
              "    </tr>\n",
              "    <tr>\n",
              "      <th>3980</th>\n",
              "      <td>(단위: 억원, %)발간일: 10.12 (수)10.11 (화) 1d 5d 1M 전...</td>\n",
              "    </tr>\n",
              "    <tr>\n",
              "      <th>3981</th>\n",
              "      <td>Fixed Income 2022.11.11   `   PF ABCP  유동성 ...</td>\n",
              "    </tr>\n",
              "    <tr>\n",
              "      <th>3982</th>\n",
              "      <td>I   1 Summary투자등급(IG) 및 하이일드(HY) 회사채 시장 전망 내...</td>\n",
              "    </tr>\n",
              "    <tr>\n",
              "      <th>3983</th>\n",
              "      <td>2022년 11월 3일        Fixed Income 우혜영  11월  F...</td>\n",
              "    </tr>\n",
              "  </tbody>\n",
              "</table>\n",
              "<p>3984 rows × 1 columns</p>\n",
              "</div>\n",
              "      <button class=\"colab-df-convert\" onclick=\"convertToInteractive('df-51ffb7af-113a-41c9-8d0a-34ee9efa22e8')\"\n",
              "              title=\"Convert this dataframe to an interactive table.\"\n",
              "              style=\"display:none;\">\n",
              "        \n",
              "  <svg xmlns=\"http://www.w3.org/2000/svg\" height=\"24px\"viewBox=\"0 0 24 24\"\n",
              "       width=\"24px\">\n",
              "    <path d=\"M0 0h24v24H0V0z\" fill=\"none\"/>\n",
              "    <path d=\"M18.56 5.44l.94 2.06.94-2.06 2.06-.94-2.06-.94-.94-2.06-.94 2.06-2.06.94zm-11 1L8.5 8.5l.94-2.06 2.06-.94-2.06-.94L8.5 2.5l-.94 2.06-2.06.94zm10 10l.94 2.06.94-2.06 2.06-.94-2.06-.94-.94-2.06-.94 2.06-2.06.94z\"/><path d=\"M17.41 7.96l-1.37-1.37c-.4-.4-.92-.59-1.43-.59-.52 0-1.04.2-1.43.59L10.3 9.45l-7.72 7.72c-.78.78-.78 2.05 0 2.83L4 21.41c.39.39.9.59 1.41.59.51 0 1.02-.2 1.41-.59l7.78-7.78 2.81-2.81c.8-.78.8-2.07 0-2.86zM5.41 20L4 18.59l7.72-7.72 1.47 1.35L5.41 20z\"/>\n",
              "  </svg>\n",
              "      </button>\n",
              "      \n",
              "  <style>\n",
              "    .colab-df-container {\n",
              "      display:flex;\n",
              "      flex-wrap:wrap;\n",
              "      gap: 12px;\n",
              "    }\n",
              "\n",
              "    .colab-df-convert {\n",
              "      background-color: #E8F0FE;\n",
              "      border: none;\n",
              "      border-radius: 50%;\n",
              "      cursor: pointer;\n",
              "      display: none;\n",
              "      fill: #1967D2;\n",
              "      height: 32px;\n",
              "      padding: 0 0 0 0;\n",
              "      width: 32px;\n",
              "    }\n",
              "\n",
              "    .colab-df-convert:hover {\n",
              "      background-color: #E2EBFA;\n",
              "      box-shadow: 0px 1px 2px rgba(60, 64, 67, 0.3), 0px 1px 3px 1px rgba(60, 64, 67, 0.15);\n",
              "      fill: #174EA6;\n",
              "    }\n",
              "\n",
              "    [theme=dark] .colab-df-convert {\n",
              "      background-color: #3B4455;\n",
              "      fill: #D2E3FC;\n",
              "    }\n",
              "\n",
              "    [theme=dark] .colab-df-convert:hover {\n",
              "      background-color: #434B5C;\n",
              "      box-shadow: 0px 1px 3px 1px rgba(0, 0, 0, 0.15);\n",
              "      filter: drop-shadow(0px 1px 2px rgba(0, 0, 0, 0.3));\n",
              "      fill: #FFFFFF;\n",
              "    }\n",
              "  </style>\n",
              "\n",
              "      <script>\n",
              "        const buttonEl =\n",
              "          document.querySelector('#df-51ffb7af-113a-41c9-8d0a-34ee9efa22e8 button.colab-df-convert');\n",
              "        buttonEl.style.display =\n",
              "          google.colab.kernel.accessAllowed ? 'block' : 'none';\n",
              "\n",
              "        async function convertToInteractive(key) {\n",
              "          const element = document.querySelector('#df-51ffb7af-113a-41c9-8d0a-34ee9efa22e8');\n",
              "          const dataTable =\n",
              "            await google.colab.kernel.invokeFunction('convertToInteractive',\n",
              "                                                     [key], {});\n",
              "          if (!dataTable) return;\n",
              "\n",
              "          const docLinkHtml = 'Like what you see? Visit the ' +\n",
              "            '<a target=\"_blank\" href=https://colab.research.google.com/notebooks/data_table.ipynb>data table notebook</a>'\n",
              "            + ' to learn more about interactive tables.';\n",
              "          element.innerHTML = '';\n",
              "          dataTable['output_type'] = 'display_data';\n",
              "          await google.colab.output.renderOutput(dataTable, element);\n",
              "          const docLink = document.createElement('div');\n",
              "          docLink.innerHTML = docLinkHtml;\n",
              "          element.appendChild(docLink);\n",
              "        }\n",
              "      </script>\n",
              "    </div>\n",
              "  </div>\n",
              "  "
            ]
          },
          "metadata": {},
          "execution_count": 7
        }
      ]
    },
    {
      "cell_type": "markdown",
      "source": [
        "- date, title, company가 담긴 데이터프레임으로 사용할 경우"
      ],
      "metadata": {
        "id": "eucs6W_Bfx_m"
      }
    },
    {
      "cell_type": "code",
      "source": [
        "# 리스트를 데이터프레임으로 변경\n",
        "import pandas as pd\n",
        "docs_df=pd.DataFrame(all_string_list,columns=['docs'])\n",
        "docs_df"
      ],
      "metadata": {
        "colab": {
          "base_uri": "https://localhost:8080/",
          "height": 424
        },
        "id": "F0QckPgzMlEB",
        "outputId": "056c860e-d86e-457a-cca6-e8af22ab456f"
      },
      "execution_count": null,
      "outputs": [
        {
          "output_type": "execute_result",
          "data": {
            "text/plain": [
              "                                                   docs\n",
              "0      Credit 손소현 02. 3779-0055 thecredit@ebestsec.c...\n",
              "1            2015년 10월 14일 I Global Asset Research  ...\n",
              "2      Credit 손소현 02. 3779-0055 thecredit@ebestsec.c...\n",
              "3           2015년 10월 15일 I Global Asset Research   ...\n",
              "4           2015년 10월 13일 I Global Asset Research   ...\n",
              "...                                                 ...\n",
              "3979    [10월 금통위]    Correlation이  가장  두렵다 [Bond Str...\n",
              "3980   (단위: 억원, %)발간일: 10.12 (수)10.11 (화) 1d 5d 1M 전...\n",
              "3981     Fixed Income 2022.11.11   `   PF ABCP  유동성 ...\n",
              "3982   I   1 Summary투자등급(IG) 및 하이일드(HY) 회사채 시장 전망 내...\n",
              "3983    2022년 11월 3일        Fixed Income 우혜영  11월  F...\n",
              "\n",
              "[3984 rows x 1 columns]"
            ],
            "text/html": [
              "\n",
              "  <div id=\"df-c8beb69d-219d-40ea-b093-f8c8acf5cce5\">\n",
              "    <div class=\"colab-df-container\">\n",
              "      <div>\n",
              "<style scoped>\n",
              "    .dataframe tbody tr th:only-of-type {\n",
              "        vertical-align: middle;\n",
              "    }\n",
              "\n",
              "    .dataframe tbody tr th {\n",
              "        vertical-align: top;\n",
              "    }\n",
              "\n",
              "    .dataframe thead th {\n",
              "        text-align: right;\n",
              "    }\n",
              "</style>\n",
              "<table border=\"1\" class=\"dataframe\">\n",
              "  <thead>\n",
              "    <tr style=\"text-align: right;\">\n",
              "      <th></th>\n",
              "      <th>docs</th>\n",
              "    </tr>\n",
              "  </thead>\n",
              "  <tbody>\n",
              "    <tr>\n",
              "      <th>0</th>\n",
              "      <td>Credit 손소현 02. 3779-0055 thecredit@ebestsec.c...</td>\n",
              "    </tr>\n",
              "    <tr>\n",
              "      <th>1</th>\n",
              "      <td>2015년 10월 14일 I Global Asset Research  ...</td>\n",
              "    </tr>\n",
              "    <tr>\n",
              "      <th>2</th>\n",
              "      <td>Credit 손소현 02. 3779-0055 thecredit@ebestsec.c...</td>\n",
              "    </tr>\n",
              "    <tr>\n",
              "      <th>3</th>\n",
              "      <td>2015년 10월 15일 I Global Asset Research   ...</td>\n",
              "    </tr>\n",
              "    <tr>\n",
              "      <th>4</th>\n",
              "      <td>2015년 10월 13일 I Global Asset Research   ...</td>\n",
              "    </tr>\n",
              "    <tr>\n",
              "      <th>...</th>\n",
              "      <td>...</td>\n",
              "    </tr>\n",
              "    <tr>\n",
              "      <th>3979</th>\n",
              "      <td>[10월 금통위]    Correlation이  가장  두렵다 [Bond Str...</td>\n",
              "    </tr>\n",
              "    <tr>\n",
              "      <th>3980</th>\n",
              "      <td>(단위: 억원, %)발간일: 10.12 (수)10.11 (화) 1d 5d 1M 전...</td>\n",
              "    </tr>\n",
              "    <tr>\n",
              "      <th>3981</th>\n",
              "      <td>Fixed Income 2022.11.11   `   PF ABCP  유동성 ...</td>\n",
              "    </tr>\n",
              "    <tr>\n",
              "      <th>3982</th>\n",
              "      <td>I   1 Summary투자등급(IG) 및 하이일드(HY) 회사채 시장 전망 내...</td>\n",
              "    </tr>\n",
              "    <tr>\n",
              "      <th>3983</th>\n",
              "      <td>2022년 11월 3일        Fixed Income 우혜영  11월  F...</td>\n",
              "    </tr>\n",
              "  </tbody>\n",
              "</table>\n",
              "<p>3984 rows × 1 columns</p>\n",
              "</div>\n",
              "      <button class=\"colab-df-convert\" onclick=\"convertToInteractive('df-c8beb69d-219d-40ea-b093-f8c8acf5cce5')\"\n",
              "              title=\"Convert this dataframe to an interactive table.\"\n",
              "              style=\"display:none;\">\n",
              "        \n",
              "  <svg xmlns=\"http://www.w3.org/2000/svg\" height=\"24px\"viewBox=\"0 0 24 24\"\n",
              "       width=\"24px\">\n",
              "    <path d=\"M0 0h24v24H0V0z\" fill=\"none\"/>\n",
              "    <path d=\"M18.56 5.44l.94 2.06.94-2.06 2.06-.94-2.06-.94-.94-2.06-.94 2.06-2.06.94zm-11 1L8.5 8.5l.94-2.06 2.06-.94-2.06-.94L8.5 2.5l-.94 2.06-2.06.94zm10 10l.94 2.06.94-2.06 2.06-.94-2.06-.94-.94-2.06-.94 2.06-2.06.94z\"/><path d=\"M17.41 7.96l-1.37-1.37c-.4-.4-.92-.59-1.43-.59-.52 0-1.04.2-1.43.59L10.3 9.45l-7.72 7.72c-.78.78-.78 2.05 0 2.83L4 21.41c.39.39.9.59 1.41.59.51 0 1.02-.2 1.41-.59l7.78-7.78 2.81-2.81c.8-.78.8-2.07 0-2.86zM5.41 20L4 18.59l7.72-7.72 1.47 1.35L5.41 20z\"/>\n",
              "  </svg>\n",
              "      </button>\n",
              "      \n",
              "  <style>\n",
              "    .colab-df-container {\n",
              "      display:flex;\n",
              "      flex-wrap:wrap;\n",
              "      gap: 12px;\n",
              "    }\n",
              "\n",
              "    .colab-df-convert {\n",
              "      background-color: #E8F0FE;\n",
              "      border: none;\n",
              "      border-radius: 50%;\n",
              "      cursor: pointer;\n",
              "      display: none;\n",
              "      fill: #1967D2;\n",
              "      height: 32px;\n",
              "      padding: 0 0 0 0;\n",
              "      width: 32px;\n",
              "    }\n",
              "\n",
              "    .colab-df-convert:hover {\n",
              "      background-color: #E2EBFA;\n",
              "      box-shadow: 0px 1px 2px rgba(60, 64, 67, 0.3), 0px 1px 3px 1px rgba(60, 64, 67, 0.15);\n",
              "      fill: #174EA6;\n",
              "    }\n",
              "\n",
              "    [theme=dark] .colab-df-convert {\n",
              "      background-color: #3B4455;\n",
              "      fill: #D2E3FC;\n",
              "    }\n",
              "\n",
              "    [theme=dark] .colab-df-convert:hover {\n",
              "      background-color: #434B5C;\n",
              "      box-shadow: 0px 1px 3px 1px rgba(0, 0, 0, 0.15);\n",
              "      filter: drop-shadow(0px 1px 2px rgba(0, 0, 0, 0.3));\n",
              "      fill: #FFFFFF;\n",
              "    }\n",
              "  </style>\n",
              "\n",
              "      <script>\n",
              "        const buttonEl =\n",
              "          document.querySelector('#df-c8beb69d-219d-40ea-b093-f8c8acf5cce5 button.colab-df-convert');\n",
              "        buttonEl.style.display =\n",
              "          google.colab.kernel.accessAllowed ? 'block' : 'none';\n",
              "\n",
              "        async function convertToInteractive(key) {\n",
              "          const element = document.querySelector('#df-c8beb69d-219d-40ea-b093-f8c8acf5cce5');\n",
              "          const dataTable =\n",
              "            await google.colab.kernel.invokeFunction('convertToInteractive',\n",
              "                                                     [key], {});\n",
              "          if (!dataTable) return;\n",
              "\n",
              "          const docLinkHtml = 'Like what you see? Visit the ' +\n",
              "            '<a target=\"_blank\" href=https://colab.research.google.com/notebooks/data_table.ipynb>data table notebook</a>'\n",
              "            + ' to learn more about interactive tables.';\n",
              "          element.innerHTML = '';\n",
              "          dataTable['output_type'] = 'display_data';\n",
              "          await google.colab.output.renderOutput(dataTable, element);\n",
              "          const docLink = document.createElement('div');\n",
              "          docLink.innerHTML = docLinkHtml;\n",
              "          element.appendChild(docLink);\n",
              "        }\n",
              "      </script>\n",
              "    </div>\n",
              "  </div>\n",
              "  "
            ]
          },
          "metadata": {},
          "execution_count": 9
        }
      ]
    },
    {
      "cell_type": "code",
      "source": [
        "# 날짜, 증권사, 제목을 붙이기 위해 파일 이름 가져와서 딕셔너리로 붙이기\n",
        "import pandas as pd\n",
        "import glob\n",
        "all_txt_files = (glob.glob(\"/content/drive/MyDrive/naver_bond_1/text/*.txt\"))\n",
        "\n",
        "file_header_list=[]\n",
        "for file in all_txt_files:\n",
        "    file_name=file.split('/')[6]\n",
        "    file_name = file_name.replace('.txt', '')\n",
        "    date=file_name.split('_')[0]\n",
        "    company=file_name.split('_')[1]\n",
        "    title=file_name.split('_')[2]\n",
        "    file_header_list.append({'date':date,'cmp':company,'title':title})\n",
        "\n",
        "    #print(file_name)\n",
        "\n",
        "# 딕셔너리를 데이터프레임으로 변환\n",
        "file_header_df=pd.DataFrame(file_header_list)\n",
        "file_header_df"
      ],
      "metadata": {
        "colab": {
          "base_uri": "https://localhost:8080/",
          "height": 424
        },
        "id": "vyUK_dvFCKJY",
        "outputId": "2ef9e93f-29b7-498e-9c19-b3b282181fd6"
      },
      "execution_count": null,
      "outputs": [
        {
          "output_type": "execute_result",
          "data": {
            "text/plain": [
              "            date                 cmp  \\\n",
              "0     2015-10-16  이베스트투자증권   \n",
              "1     2015-10-14          하나증권   \n",
              "2     2015-10-15  이베스트투자증권   \n",
              "3     2015-10-15          하나증권   \n",
              "4     2015-10-13          하나증권   \n",
              "...          ...                 ...   \n",
              "3979  2022-10-12      하이투자증권   \n",
              "3980  2022-10-12       유안타증권   \n",
              "3981  2022-11-11       유안타증권   \n",
              "3982  2022-11-08    신한투자증권   \n",
              "3983  2022-11-03      이베스트증권   \n",
              "\n",
              "                                                  title  \n",
              "0     피치, 브라질 신용등급 BBB에서 BBB-로 한 ...  \n",
              "1     불안감이 높아질 때, 더 빛나는 선진통...  \n",
              "2     Fed 베이지북, 달러강세 타격, 경기 완만ᄒ...  \n",
              "3        정책에 대한 기대가 높아질 때 해야할 일   \n",
              "4     단기 베어스팁, 국고10년은 2.20%을 넘지 ...  \n",
              "...                                                 ...  \n",
              "3979                       Correlation이 가장 두렵다   \n",
              "3980                                채권 Daily (10.12)  \n",
              "3981                            PF ABCP 유동성 점검  \n",
              "3982                                          Crescendo  \n",
              "3983                                  11월 FOMC Review  \n",
              "\n",
              "[3984 rows x 3 columns]"
            ],
            "text/html": [
              "\n",
              "  <div id=\"df-3e861f11-ae7d-45a9-8a2a-981f8f8f9066\">\n",
              "    <div class=\"colab-df-container\">\n",
              "      <div>\n",
              "<style scoped>\n",
              "    .dataframe tbody tr th:only-of-type {\n",
              "        vertical-align: middle;\n",
              "    }\n",
              "\n",
              "    .dataframe tbody tr th {\n",
              "        vertical-align: top;\n",
              "    }\n",
              "\n",
              "    .dataframe thead th {\n",
              "        text-align: right;\n",
              "    }\n",
              "</style>\n",
              "<table border=\"1\" class=\"dataframe\">\n",
              "  <thead>\n",
              "    <tr style=\"text-align: right;\">\n",
              "      <th></th>\n",
              "      <th>date</th>\n",
              "      <th>cmp</th>\n",
              "      <th>title</th>\n",
              "    </tr>\n",
              "  </thead>\n",
              "  <tbody>\n",
              "    <tr>\n",
              "      <th>0</th>\n",
              "      <td>2015-10-16</td>\n",
              "      <td>이베스트투자증권</td>\n",
              "      <td>피치, 브라질 신용등급 BBB에서 BBB-로 한 ...</td>\n",
              "    </tr>\n",
              "    <tr>\n",
              "      <th>1</th>\n",
              "      <td>2015-10-14</td>\n",
              "      <td>하나증권</td>\n",
              "      <td>불안감이 높아질 때, 더 빛나는 선진통...</td>\n",
              "    </tr>\n",
              "    <tr>\n",
              "      <th>2</th>\n",
              "      <td>2015-10-15</td>\n",
              "      <td>이베스트투자증권</td>\n",
              "      <td>Fed 베이지북, 달러강세 타격, 경기 완만ᄒ...</td>\n",
              "    </tr>\n",
              "    <tr>\n",
              "      <th>3</th>\n",
              "      <td>2015-10-15</td>\n",
              "      <td>하나증권</td>\n",
              "      <td>정책에 대한 기대가 높아질 때 해야할 일</td>\n",
              "    </tr>\n",
              "    <tr>\n",
              "      <th>4</th>\n",
              "      <td>2015-10-13</td>\n",
              "      <td>하나증권</td>\n",
              "      <td>단기 베어스팁, 국고10년은 2.20%을 넘지 ...</td>\n",
              "    </tr>\n",
              "    <tr>\n",
              "      <th>...</th>\n",
              "      <td>...</td>\n",
              "      <td>...</td>\n",
              "      <td>...</td>\n",
              "    </tr>\n",
              "    <tr>\n",
              "      <th>3979</th>\n",
              "      <td>2022-10-12</td>\n",
              "      <td>하이투자증권</td>\n",
              "      <td>Correlation이 가장 두렵다</td>\n",
              "    </tr>\n",
              "    <tr>\n",
              "      <th>3980</th>\n",
              "      <td>2022-10-12</td>\n",
              "      <td>유안타증권</td>\n",
              "      <td>채권 Daily (10.12)</td>\n",
              "    </tr>\n",
              "    <tr>\n",
              "      <th>3981</th>\n",
              "      <td>2022-11-11</td>\n",
              "      <td>유안타증권</td>\n",
              "      <td>PF ABCP 유동성 점검</td>\n",
              "    </tr>\n",
              "    <tr>\n",
              "      <th>3982</th>\n",
              "      <td>2022-11-08</td>\n",
              "      <td>신한투자증권</td>\n",
              "      <td>Crescendo</td>\n",
              "    </tr>\n",
              "    <tr>\n",
              "      <th>3983</th>\n",
              "      <td>2022-11-03</td>\n",
              "      <td>이베스트증권</td>\n",
              "      <td>11월 FOMC Review</td>\n",
              "    </tr>\n",
              "  </tbody>\n",
              "</table>\n",
              "<p>3984 rows × 3 columns</p>\n",
              "</div>\n",
              "      <button class=\"colab-df-convert\" onclick=\"convertToInteractive('df-3e861f11-ae7d-45a9-8a2a-981f8f8f9066')\"\n",
              "              title=\"Convert this dataframe to an interactive table.\"\n",
              "              style=\"display:none;\">\n",
              "        \n",
              "  <svg xmlns=\"http://www.w3.org/2000/svg\" height=\"24px\"viewBox=\"0 0 24 24\"\n",
              "       width=\"24px\">\n",
              "    <path d=\"M0 0h24v24H0V0z\" fill=\"none\"/>\n",
              "    <path d=\"M18.56 5.44l.94 2.06.94-2.06 2.06-.94-2.06-.94-.94-2.06-.94 2.06-2.06.94zm-11 1L8.5 8.5l.94-2.06 2.06-.94-2.06-.94L8.5 2.5l-.94 2.06-2.06.94zm10 10l.94 2.06.94-2.06 2.06-.94-2.06-.94-.94-2.06-.94 2.06-2.06.94z\"/><path d=\"M17.41 7.96l-1.37-1.37c-.4-.4-.92-.59-1.43-.59-.52 0-1.04.2-1.43.59L10.3 9.45l-7.72 7.72c-.78.78-.78 2.05 0 2.83L4 21.41c.39.39.9.59 1.41.59.51 0 1.02-.2 1.41-.59l7.78-7.78 2.81-2.81c.8-.78.8-2.07 0-2.86zM5.41 20L4 18.59l7.72-7.72 1.47 1.35L5.41 20z\"/>\n",
              "  </svg>\n",
              "      </button>\n",
              "      \n",
              "  <style>\n",
              "    .colab-df-container {\n",
              "      display:flex;\n",
              "      flex-wrap:wrap;\n",
              "      gap: 12px;\n",
              "    }\n",
              "\n",
              "    .colab-df-convert {\n",
              "      background-color: #E8F0FE;\n",
              "      border: none;\n",
              "      border-radius: 50%;\n",
              "      cursor: pointer;\n",
              "      display: none;\n",
              "      fill: #1967D2;\n",
              "      height: 32px;\n",
              "      padding: 0 0 0 0;\n",
              "      width: 32px;\n",
              "    }\n",
              "\n",
              "    .colab-df-convert:hover {\n",
              "      background-color: #E2EBFA;\n",
              "      box-shadow: 0px 1px 2px rgba(60, 64, 67, 0.3), 0px 1px 3px 1px rgba(60, 64, 67, 0.15);\n",
              "      fill: #174EA6;\n",
              "    }\n",
              "\n",
              "    [theme=dark] .colab-df-convert {\n",
              "      background-color: #3B4455;\n",
              "      fill: #D2E3FC;\n",
              "    }\n",
              "\n",
              "    [theme=dark] .colab-df-convert:hover {\n",
              "      background-color: #434B5C;\n",
              "      box-shadow: 0px 1px 3px 1px rgba(0, 0, 0, 0.15);\n",
              "      filter: drop-shadow(0px 1px 2px rgba(0, 0, 0, 0.3));\n",
              "      fill: #FFFFFF;\n",
              "    }\n",
              "  </style>\n",
              "\n",
              "      <script>\n",
              "        const buttonEl =\n",
              "          document.querySelector('#df-3e861f11-ae7d-45a9-8a2a-981f8f8f9066 button.colab-df-convert');\n",
              "        buttonEl.style.display =\n",
              "          google.colab.kernel.accessAllowed ? 'block' : 'none';\n",
              "\n",
              "        async function convertToInteractive(key) {\n",
              "          const element = document.querySelector('#df-3e861f11-ae7d-45a9-8a2a-981f8f8f9066');\n",
              "          const dataTable =\n",
              "            await google.colab.kernel.invokeFunction('convertToInteractive',\n",
              "                                                     [key], {});\n",
              "          if (!dataTable) return;\n",
              "\n",
              "          const docLinkHtml = 'Like what you see? Visit the ' +\n",
              "            '<a target=\"_blank\" href=https://colab.research.google.com/notebooks/data_table.ipynb>data table notebook</a>'\n",
              "            + ' to learn more about interactive tables.';\n",
              "          element.innerHTML = '';\n",
              "          dataTable['output_type'] = 'display_data';\n",
              "          await google.colab.output.renderOutput(dataTable, element);\n",
              "          const docLink = document.createElement('div');\n",
              "          docLink.innerHTML = docLinkHtml;\n",
              "          element.appendChild(docLink);\n",
              "        }\n",
              "      </script>\n",
              "    </div>\n",
              "  </div>\n",
              "  "
            ]
          },
          "metadata": {},
          "execution_count": 10
        }
      ]
    },
    {
      "cell_type": "code",
      "source": [
        "bond_reports_df=pd.concat([file_header_df,docs_df],axis=1)\n",
        "bond_reports_df['date']=pd.to_datetime(bond_reports_df['date'])\n",
        "bond_reports_df=bond_reports_df.sort_values('date').reset_index(drop=True)\n",
        "bond_reports_df"
      ],
      "metadata": {
        "colab": {
          "base_uri": "https://localhost:8080/",
          "height": 424
        },
        "id": "Ca4tuB00FFnU",
        "outputId": "a57283ed-73fe-4538-8da0-fbc6bd94abc3"
      },
      "execution_count": null,
      "outputs": [
        {
          "output_type": "execute_result",
          "data": {
            "text/plain": [
              "           date               cmp  \\\n",
              "0    2008-04-01        대우증권   \n",
              "1    2008-04-07        대우증권   \n",
              "2    2008-04-07        대우증권   \n",
              "3    2008-04-21        대우증권   \n",
              "4    2008-04-28        대우증권   \n",
              "...         ...               ...   \n",
              "3979 2022-11-14   한화투자증권   \n",
              "3980 2022-11-14  신한투자증권   \n",
              "3981 2022-11-14     유안타증권   \n",
              "3982 2022-11-15      메리츠증권   \n",
              "3983 2022-11-15     유안타증권   \n",
              "\n",
              "                                                  title  \\\n",
              "0                    대우증권 월간 채권투자 (4월)   \n",
              "1                                     돌아온 박스권   \n",
              "2                                        시간차 공격   \n",
              "3                       항상 열려는 있는 가능성   \n",
              "4     FOMC 이후 원자재 가격 상승세 둔화 여부에 ...   \n",
              "...                                                 ...   \n",
              "3979  [Hanwha FI Weekly] 울다가 웃으면 뿔이 날 ...   \n",
              "3980                   회복될 이유가 있는 투자심리   \n",
              "3981                                채권 Daily (11.14)   \n",
              "3982       [채권전망] Era of Un-, 안전자산의 가치   \n",
              "3983                               채권 Daily (11.15)    \n",
              "\n",
              "                                                   docs  \n",
              "0      2008_04  월간채권투자채 권 시 장 전 망 對應과 限界금 융 시 장 차 트 ...  \n",
              "1      Fixed Income Weekly 2008. 4. 7.  #918 Fixed I...  \n",
              "2      Fixed Income Weekly 2008. 4. 7.  #918 Fixed I...  \n",
              "3       항상 열려는 있는 가능성    2008. 4. 21    Fixed Income...  \n",
              "4       임박한 기회?    2008. 4. 28    Fixed Income Weekl...  \n",
              "...                                                 ...  \n",
              "3979   2022년 11월 14일 Hanwha Fixed Income    Hanwha F...  \n",
              "3980   ㅇㅇ         ㅇㅇ    신한생각 I  채권 전략  2022년 11월 14일...  \n",
              "3981   (단위: 억원, %)발간일: 11.14 (월)11.11 (금) 1d 5d 1M 전...  \n",
              "3982   2022년 11월 10일(목)  Strategy IdeaStrategy Idea ...  \n",
              "3983   (단위: 억원, %)발간일: 11.15 (화)11.14 (월) 1d 5d 1M 전...  \n",
              "\n",
              "[3984 rows x 4 columns]"
            ],
            "text/html": [
              "\n",
              "  <div id=\"df-387dbe36-c05f-4381-81b1-bf20aa4f68c0\">\n",
              "    <div class=\"colab-df-container\">\n",
              "      <div>\n",
              "<style scoped>\n",
              "    .dataframe tbody tr th:only-of-type {\n",
              "        vertical-align: middle;\n",
              "    }\n",
              "\n",
              "    .dataframe tbody tr th {\n",
              "        vertical-align: top;\n",
              "    }\n",
              "\n",
              "    .dataframe thead th {\n",
              "        text-align: right;\n",
              "    }\n",
              "</style>\n",
              "<table border=\"1\" class=\"dataframe\">\n",
              "  <thead>\n",
              "    <tr style=\"text-align: right;\">\n",
              "      <th></th>\n",
              "      <th>date</th>\n",
              "      <th>cmp</th>\n",
              "      <th>title</th>\n",
              "      <th>docs</th>\n",
              "    </tr>\n",
              "  </thead>\n",
              "  <tbody>\n",
              "    <tr>\n",
              "      <th>0</th>\n",
              "      <td>2008-04-01</td>\n",
              "      <td>대우증권</td>\n",
              "      <td>대우증권 월간 채권투자 (4월)</td>\n",
              "      <td>2008_04  월간채권투자채 권 시 장 전 망 對應과 限界금 융 시 장 차 트 ...</td>\n",
              "    </tr>\n",
              "    <tr>\n",
              "      <th>1</th>\n",
              "      <td>2008-04-07</td>\n",
              "      <td>대우증권</td>\n",
              "      <td>돌아온 박스권</td>\n",
              "      <td>Fixed Income Weekly 2008. 4. 7.  #918 Fixed I...</td>\n",
              "    </tr>\n",
              "    <tr>\n",
              "      <th>2</th>\n",
              "      <td>2008-04-07</td>\n",
              "      <td>대우증권</td>\n",
              "      <td>시간차 공격</td>\n",
              "      <td>Fixed Income Weekly 2008. 4. 7.  #918 Fixed I...</td>\n",
              "    </tr>\n",
              "    <tr>\n",
              "      <th>3</th>\n",
              "      <td>2008-04-21</td>\n",
              "      <td>대우증권</td>\n",
              "      <td>항상 열려는 있는 가능성</td>\n",
              "      <td>항상 열려는 있는 가능성    2008. 4. 21    Fixed Income...</td>\n",
              "    </tr>\n",
              "    <tr>\n",
              "      <th>4</th>\n",
              "      <td>2008-04-28</td>\n",
              "      <td>대우증권</td>\n",
              "      <td>FOMC 이후 원자재 가격 상승세 둔화 여부에 ...</td>\n",
              "      <td>임박한 기회?    2008. 4. 28    Fixed Income Weekl...</td>\n",
              "    </tr>\n",
              "    <tr>\n",
              "      <th>...</th>\n",
              "      <td>...</td>\n",
              "      <td>...</td>\n",
              "      <td>...</td>\n",
              "      <td>...</td>\n",
              "    </tr>\n",
              "    <tr>\n",
              "      <th>3979</th>\n",
              "      <td>2022-11-14</td>\n",
              "      <td>한화투자증권</td>\n",
              "      <td>[Hanwha FI Weekly] 울다가 웃으면 뿔이 날 ...</td>\n",
              "      <td>2022년 11월 14일 Hanwha Fixed Income    Hanwha F...</td>\n",
              "    </tr>\n",
              "    <tr>\n",
              "      <th>3980</th>\n",
              "      <td>2022-11-14</td>\n",
              "      <td>신한투자증권</td>\n",
              "      <td>회복될 이유가 있는 투자심리</td>\n",
              "      <td>ㅇㅇ         ㅇㅇ    신한생각 I  채권 전략  2022년 11월 14일...</td>\n",
              "    </tr>\n",
              "    <tr>\n",
              "      <th>3981</th>\n",
              "      <td>2022-11-14</td>\n",
              "      <td>유안타증권</td>\n",
              "      <td>채권 Daily (11.14)</td>\n",
              "      <td>(단위: 억원, %)발간일: 11.14 (월)11.11 (금) 1d 5d 1M 전...</td>\n",
              "    </tr>\n",
              "    <tr>\n",
              "      <th>3982</th>\n",
              "      <td>2022-11-15</td>\n",
              "      <td>메리츠증권</td>\n",
              "      <td>[채권전망] Era of Un-, 안전자산의 가치</td>\n",
              "      <td>2022년 11월 10일(목)  Strategy IdeaStrategy Idea ...</td>\n",
              "    </tr>\n",
              "    <tr>\n",
              "      <th>3983</th>\n",
              "      <td>2022-11-15</td>\n",
              "      <td>유안타증권</td>\n",
              "      <td>채권 Daily (11.15)</td>\n",
              "      <td>(단위: 억원, %)발간일: 11.15 (화)11.14 (월) 1d 5d 1M 전...</td>\n",
              "    </tr>\n",
              "  </tbody>\n",
              "</table>\n",
              "<p>3984 rows × 4 columns</p>\n",
              "</div>\n",
              "      <button class=\"colab-df-convert\" onclick=\"convertToInteractive('df-387dbe36-c05f-4381-81b1-bf20aa4f68c0')\"\n",
              "              title=\"Convert this dataframe to an interactive table.\"\n",
              "              style=\"display:none;\">\n",
              "        \n",
              "  <svg xmlns=\"http://www.w3.org/2000/svg\" height=\"24px\"viewBox=\"0 0 24 24\"\n",
              "       width=\"24px\">\n",
              "    <path d=\"M0 0h24v24H0V0z\" fill=\"none\"/>\n",
              "    <path d=\"M18.56 5.44l.94 2.06.94-2.06 2.06-.94-2.06-.94-.94-2.06-.94 2.06-2.06.94zm-11 1L8.5 8.5l.94-2.06 2.06-.94-2.06-.94L8.5 2.5l-.94 2.06-2.06.94zm10 10l.94 2.06.94-2.06 2.06-.94-2.06-.94-.94-2.06-.94 2.06-2.06.94z\"/><path d=\"M17.41 7.96l-1.37-1.37c-.4-.4-.92-.59-1.43-.59-.52 0-1.04.2-1.43.59L10.3 9.45l-7.72 7.72c-.78.78-.78 2.05 0 2.83L4 21.41c.39.39.9.59 1.41.59.51 0 1.02-.2 1.41-.59l7.78-7.78 2.81-2.81c.8-.78.8-2.07 0-2.86zM5.41 20L4 18.59l7.72-7.72 1.47 1.35L5.41 20z\"/>\n",
              "  </svg>\n",
              "      </button>\n",
              "      \n",
              "  <style>\n",
              "    .colab-df-container {\n",
              "      display:flex;\n",
              "      flex-wrap:wrap;\n",
              "      gap: 12px;\n",
              "    }\n",
              "\n",
              "    .colab-df-convert {\n",
              "      background-color: #E8F0FE;\n",
              "      border: none;\n",
              "      border-radius: 50%;\n",
              "      cursor: pointer;\n",
              "      display: none;\n",
              "      fill: #1967D2;\n",
              "      height: 32px;\n",
              "      padding: 0 0 0 0;\n",
              "      width: 32px;\n",
              "    }\n",
              "\n",
              "    .colab-df-convert:hover {\n",
              "      background-color: #E2EBFA;\n",
              "      box-shadow: 0px 1px 2px rgba(60, 64, 67, 0.3), 0px 1px 3px 1px rgba(60, 64, 67, 0.15);\n",
              "      fill: #174EA6;\n",
              "    }\n",
              "\n",
              "    [theme=dark] .colab-df-convert {\n",
              "      background-color: #3B4455;\n",
              "      fill: #D2E3FC;\n",
              "    }\n",
              "\n",
              "    [theme=dark] .colab-df-convert:hover {\n",
              "      background-color: #434B5C;\n",
              "      box-shadow: 0px 1px 3px 1px rgba(0, 0, 0, 0.15);\n",
              "      filter: drop-shadow(0px 1px 2px rgba(0, 0, 0, 0.3));\n",
              "      fill: #FFFFFF;\n",
              "    }\n",
              "  </style>\n",
              "\n",
              "      <script>\n",
              "        const buttonEl =\n",
              "          document.querySelector('#df-387dbe36-c05f-4381-81b1-bf20aa4f68c0 button.colab-df-convert');\n",
              "        buttonEl.style.display =\n",
              "          google.colab.kernel.accessAllowed ? 'block' : 'none';\n",
              "\n",
              "        async function convertToInteractive(key) {\n",
              "          const element = document.querySelector('#df-387dbe36-c05f-4381-81b1-bf20aa4f68c0');\n",
              "          const dataTable =\n",
              "            await google.colab.kernel.invokeFunction('convertToInteractive',\n",
              "                                                     [key], {});\n",
              "          if (!dataTable) return;\n",
              "\n",
              "          const docLinkHtml = 'Like what you see? Visit the ' +\n",
              "            '<a target=\"_blank\" href=https://colab.research.google.com/notebooks/data_table.ipynb>data table notebook</a>'\n",
              "            + ' to learn more about interactive tables.';\n",
              "          element.innerHTML = '';\n",
              "          dataTable['output_type'] = 'display_data';\n",
              "          await google.colab.output.renderOutput(dataTable, element);\n",
              "          const docLink = document.createElement('div');\n",
              "          docLink.innerHTML = docLinkHtml;\n",
              "          element.appendChild(docLink);\n",
              "        }\n",
              "      </script>\n",
              "    </div>\n",
              "  </div>\n",
              "  "
            ]
          },
          "metadata": {},
          "execution_count": 11
        }
      ]
    },
    {
      "cell_type": "code",
      "source": [
        "!pip install xlsxwriter"
      ],
      "metadata": {
        "id": "V4IDQo9sadZo",
        "colab": {
          "base_uri": "https://localhost:8080/"
        },
        "outputId": "290c1643-88f6-4cc5-dbfe-4a41c552ad5a"
      },
      "execution_count": null,
      "outputs": [
        {
          "output_type": "stream",
          "name": "stdout",
          "text": [
            "Looking in indexes: https://pypi.org/simple, https://us-python.pkg.dev/colab-wheels/public/simple/\n",
            "Collecting xlsxwriter\n",
            "  Downloading XlsxWriter-3.0.3-py3-none-any.whl (149 kB)\n",
            "\u001b[K     |████████████████████████████████| 149 kB 20.2 MB/s \n",
            "\u001b[?25hInstalling collected packages: xlsxwriter\n",
            "Successfully installed xlsxwriter-3.0.3\n"
          ]
        }
      ]
    },
    {
      "cell_type": "code",
      "source": [
        "# 최종 데이터프레임 저장\n",
        "bond_reports_df.to_excel('/content/drive/MyDrive/naver_bond_1/all_text/bond_reports_all_df.xlsx',encoding='cp949', index=True)"
      ],
      "metadata": {
        "id": "kvJCL_9wVQC4"
      },
      "execution_count": null,
      "outputs": []
    },
    {
      "cell_type": "code",
      "source": [],
      "metadata": {
        "id": "CNwyNxhykCk8"
      },
      "execution_count": null,
      "outputs": []
    }
  ]
}